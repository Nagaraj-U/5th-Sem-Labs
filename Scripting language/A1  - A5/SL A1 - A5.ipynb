{
 "cells": [
  {
   "cell_type": "markdown",
   "metadata": {},
   "source": [
    "## PART A - 1"
   ]
  },
  {
   "cell_type": "markdown",
   "metadata": {},
   "source": [
    "Write Python code to do the following:\n",
    "\n",
    "i. Create list with inputs from user\n",
    "\n",
    "ii. Determine minimum and maximum elements in the list\n",
    "\n",
    "iii. Insert new element into the list\n",
    "\n",
    "iv. Delete an element from the list\n",
    "\n",
    "v. Determine if an element is present in the list"
   ]
  },
  {
   "cell_type": "code",
   "execution_count": 3,
   "metadata": {},
   "outputs": [
    {
     "name": "stdout",
     "output_type": "stream",
     "text": [
      "enter size5\n",
      "enter list element1\n",
      "enter list element2\n",
      "enter list element3\n",
      "enter list element4\n",
      "enter list element5\n",
      "list elements are  [1, 2, 3, 4, 5]\n"
     ]
    }
   ],
   "source": [
    "#creating list and displaying\n",
    "a = []\n",
    "size = int(input(\"enter size\"))\n",
    "for i in range(0,size):\n",
    "    ele = int(input(\"enter list element\"))\n",
    "    a.append(ele)\n",
    "print(\"list elements are \", a)"
   ]
  },
  {
   "cell_type": "code",
   "execution_count": 4,
   "metadata": {},
   "outputs": [
    {
     "name": "stdout",
     "output_type": "stream",
     "text": [
      "max 5\n",
      "min 1\n"
     ]
    }
   ],
   "source": [
    "#finding minimum and maximum elements from list\n",
    "maxi = max(a)\n",
    "mini = min(a)\n",
    "print(\"max\",maxi)\n",
    "print(\"min\",mini)"
   ]
  },
  {
   "cell_type": "code",
   "execution_count": 5,
   "metadata": {},
   "outputs": [
    {
     "name": "stdout",
     "output_type": "stream",
     "text": [
      "enter new element to be inserted6\n",
      "enter the postion to insert2\n",
      "updated list is [1, 2, 6, 3, 4, 5]\n"
     ]
    }
   ],
   "source": [
    "#inserting new element\n",
    "ele = int(input(\"enter new element to be inserted\"))\n",
    "pos = int(input(\"enter the postion to insert\"))\n",
    "a.insert(pos,ele);\n",
    "print(\"updated list is\",a)"
   ]
  },
  {
   "cell_type": "code",
   "execution_count": 6,
   "metadata": {},
   "outputs": [
    {
     "name": "stdout",
     "output_type": "stream",
     "text": [
      "enter the element to delete5\n",
      "updated list is  [1, 2, 6, 3, 4]\n"
     ]
    }
   ],
   "source": [
    "#delete element from list\n",
    "ele = int(input(\"enter the element to delete\"))\n",
    "a.remove(ele)\n",
    "print(\"updated list is \" ,a) "
   ]
  },
  {
   "cell_type": "code",
   "execution_count": 10,
   "metadata": {},
   "outputs": [
    {
     "name": "stdout",
     "output_type": "stream",
     "text": [
      "enter the element to be checked 6\n",
      "element present at location  2\n"
     ]
    }
   ],
   "source": [
    "#determine if element present or not\n",
    "ele = int(input(\"enter the element to be checked \" ))\n",
    "if ele in a:\n",
    "    index = a.index(ele)\n",
    "    print(\"element present at location \" ,index)\n",
    "else:\n",
    "    print(\"element not found\")"
   ]
  },
  {
   "cell_type": "markdown",
   "metadata": {},
   "source": [
    "## PART A - 2"
   ]
  },
  {
   "cell_type": "markdown",
   "metadata": {},
   "source": [
    "Write a python program to create a class ‘Rectangle’. This class should include a\n",
    "constructor to initialize the dimensions. Include a function in the class to compute the\n",
    "area of the rectangle. Create objects of the class and print area"
   ]
  },
  {
   "cell_type": "code",
   "execution_count": 13,
   "metadata": {},
   "outputs": [
    {
     "name": "stdout",
     "output_type": "stream",
     "text": [
      "enter length5\n",
      "enter breadth4\n",
      "area is  20\n"
     ]
    }
   ],
   "source": [
    "class Rectangle:\n",
    "    def __init__(self):\n",
    "        self.l = int(input(\"enter length\"))\n",
    "        self.b = int(input(\"enter breadth\"))\n",
    "    def area(self):\n",
    "        print(\"area is \" , (self.l*self.b))\n",
    "        \n",
    "r = Rectangle();\n",
    "r.area()\n"
   ]
  },
  {
   "cell_type": "code",
   "execution_count": 15,
   "metadata": {},
   "outputs": [
    {
     "name": "stdout",
     "output_type": "stream",
     "text": [
      "enter length5\n",
      "enter breadth6\n",
      "area of rectangle is  30\n"
     ]
    }
   ],
   "source": [
    "class Rectangle:\n",
    "    def __init__(self,l,b):\n",
    "        self.l = l\n",
    "        self.b = b\n",
    "    def area(self):\n",
    "        return (self.l * self.b)\n",
    "        \n",
    "l = int(input(\"enter length\"))\n",
    "b = int(input(\"enter breadth\"))\n",
    "r = Rectangle(l,b);\n",
    "print(\"area of rectangle is \" ,r.area())\n"
   ]
  },
  {
   "cell_type": "markdown",
   "metadata": {},
   "source": [
    "## PART A - 3"
   ]
  },
  {
   "cell_type": "markdown",
   "metadata": {},
   "source": [
    "(i) Create a dictionary that contains the atomic element symbol and its name.\n",
    "\n",
    "(ii)Add a unique & duplicate element into this dictionary by interacting with the user.\n",
    "Observe the output and justify it.\n",
    "\n",
    "(iii) Display the number of atomic elements in this dictionary\n",
    "\n",
    "(iv) Ask the user to enter an element to search in the dictionary. Display appropriate\n",
    "results.\n",
    "\n",
    "Rewrite this program so that these operations are inside a function called\n",
    "‘AtomicDictionary’. Create another python file called “Atomic.py” and execute this\n",
    "function in it"
   ]
  },
  {
   "cell_type": "code",
   "execution_count": 18,
   "metadata": {},
   "outputs": [
    {
     "name": "stdout",
     "output_type": "stream",
     "text": [
      "enter new symbolH\n",
      "enter new namehydrogen\n",
      "new item added to dictionary\n",
      "number of elements in dictionary is  4\n",
      "enter the symbol to searchN\n",
      "name of atom is  nitrogen\n",
      "{'N': 'nitrogen', 'C': 'carbon', 'B': 'boron', 'H': 'hydrogen'}\n"
     ]
    }
   ],
   "source": [
    "def dictDemo():\n",
    "    atomicDict = {\"N\" : \"nitrogen\",\"C\" : \"carbon\" , \"B\" : \"boron\"}\n",
    "    \n",
    "    newSymbol = input(\"enter new symbol\")\n",
    "    newName = input(\"enter new name\")\n",
    "    \n",
    "    if newSymbol in atomicDict.keys():\n",
    "        print(\"key already exist hence value is replaced\")\n",
    "    else:\n",
    "        print(\"new item added to dictionary\")\n",
    "        \n",
    "    atomicDict[newSymbol] = newName\n",
    "    \n",
    "    print(\"number of elements in dictionary is \",len(atomicDict))\n",
    "    \n",
    "    search = input(\"enter the symbol to search\")\n",
    "    if search in atomicDict.keys():\n",
    "        print(\"name of atom is \",atomicDict[search])\n",
    "    else:\n",
    "        print(\"no such symbols exist in dictionary\")\n",
    "        \n",
    "    print(atomicDict)\n",
    "dictDemo()"
   ]
  },
  {
   "cell_type": "markdown",
   "metadata": {},
   "source": [
    "## PART A - 4"
   ]
  },
  {
   "cell_type": "markdown",
   "metadata": {},
   "source": [
    "Create a Python class called ‘Student’ having ‘name’, ‘age’ as attribute along with a list\n",
    "having the marks obtained for three subjects.\n",
    "\n",
    "(i) Create a constructor to initialize two objects of this class.\n",
    "\n",
    "(ii) Create a member function called ‘display’ printing the details of a specific object\n",
    "\n",
    "(iii) Ask users to enter the values for an object through an ‘accept’ member function.\n",
    "\n",
    "(iv) Display these details."
   ]
  },
  {
   "cell_type": "code",
   "execution_count": 29,
   "metadata": {},
   "outputs": [
    {
     "name": "stdout",
     "output_type": "stream",
     "text": [
      "name is  nags\n",
      "age is  10\n",
      "marks of student is \n",
      "[10, 20, 30]\n",
      "enter namenagsu\n",
      "enter age20\n",
      "enter marks20 \n",
      "enter marks 30\n",
      "enter marks50\n",
      "name is  nagsu\n",
      "age is  20\n",
      "marks of student is \n",
      "[20, 30, 50]\n"
     ]
    }
   ],
   "source": [
    "class Student():\n",
    "    name = \" \"\n",
    "    age = 0;\n",
    "    marks = []\n",
    "    def __init__(self,name,age,marks):\n",
    "        self.name = name\n",
    "        self.age = age\n",
    "        self.marks = marks\n",
    "        \n",
    "    def accept(self):\n",
    "        self.name = input(\"enter name\")\n",
    "        self.age = int(input(\"enter age\"))\n",
    "        temp = []\n",
    "       \n",
    "        for i in range(0,3):\n",
    "            mark = int(input(\"enter marks\"))\n",
    "            temp.append(mark)\n",
    "        self.marks = temp\n",
    "        \n",
    "    def display(self):\n",
    "        print(\"name is \",self.name)\n",
    "        print(\"age is \",self.age)\n",
    "        print(\"marks of student is \")\n",
    "        print(self.marks)\n",
    "        \n",
    "s = Student('nags',10,[10,20,30]) #intial values\n",
    "s.display()\n",
    "s.accept()\n",
    "s.display()\n",
    "            "
   ]
  },
  {
   "cell_type": "markdown",
   "metadata": {},
   "source": [
    "## PART A - 5"
   ]
  },
  {
   "cell_type": "code",
   "execution_count": 9,
   "metadata": {},
   "outputs": [
    {
     "name": "stdout",
     "output_type": "stream",
     "text": [
      "original list  [1, 2, 3, 4, 5]\n",
      "updated list is  [3, 6, 9, 12, 15]\n",
      "Original sum 15\n",
      "New sum 45\n"
     ]
    }
   ],
   "source": [
    "from functools import reduce\n",
    "lis = [1,2,3,4,5]\n",
    "newList = []\n",
    "print(\"original list \",lis)\n",
    "newList = [x*3 for x in lis]\n",
    "print(\"updated list is \",newList)\n",
    "\n",
    "\n",
    "#A lambda function can take any number of arguments, but can only have one expression\n",
    "\n",
    "\n",
    "\n",
    "or_sum = reduce(lambda x,y: x+y,lis)\n",
    "print(\"Original sum\",or_sum)\n",
    "new_sum = reduce(lambda x,y: x+y,newList)\n",
    "print(\"New sum\",new_sum)\n",
    "\n"
   ]
  },
  {
   "cell_type": "code",
   "execution_count": 10,
   "metadata": {},
   "outputs": [],
   "source": [
    "S = [x**2 for x in range(10)] "
   ]
  },
  {
   "cell_type": "code",
   "execution_count": 11,
   "metadata": {},
   "outputs": [
    {
     "data": {
      "text/plain": [
       "[0, 1, 4, 9, 16, 25, 36, 49, 64, 81]"
      ]
     },
     "execution_count": 11,
     "metadata": {},
     "output_type": "execute_result"
    }
   ],
   "source": [
    "S\n"
   ]
  },
  {
   "cell_type": "code",
   "execution_count": 16,
   "metadata": {},
   "outputs": [
    {
     "name": "stdout",
     "output_type": "stream",
     "text": [
      "enter the elements of list5\n",
      "enter the elements of list6\n",
      "enter the elements of list5\n",
      "enter the elements of list4\n",
      "enter the elements of list3\n",
      "original list :  [5, 6, 5, 4, 3]\n",
      "duplicates removed  [3, 4, 5, 6]\n",
      "even numbers list  [0, 2, 4, 6, 8]\n",
      "revrsed even list is :  [8, 6, 4, 2, 0]\n"
     ]
    }
   ],
   "source": [
    "lis1 = []\n",
    "for i in range(5):\n",
    "    temp = int(input(\"enter the elements of list\"))\n",
    "    lis1.append(temp)\n",
    "\n",
    "set1 = set(lis1)\n",
    "lis2 = list(set1)\n",
    "\n",
    "print(\"original list : \",lis1)\n",
    "print(\"duplicates removed \",lis2)\n",
    "\n",
    "#even list\n",
    "even_list = [x for x in range(10) if x%2 == 0]\n",
    "print(\"even numbers list \",even_list)\n",
    "\n",
    "even_list.reverse()\n",
    "print(\"revrsed even list is : \",even_list)\n"
   ]
  },
  {
   "cell_type": "markdown",
   "metadata": {},
   "source": [
    "## Test"
   ]
  },
  {
   "cell_type": "code",
   "execution_count": 15,
   "metadata": {},
   "outputs": [
    {
     "name": "stdout",
     "output_type": "stream",
     "text": [
      "enter the elements of list5\n",
      "enter the elements of list4\n",
      "enter the elements of list4\n",
      "enter the elements of list2\n",
      "enter the elements of list3\n",
      "original list :  [5, 4, 4, 2, 3]\n",
      "reversed list :  [3, 2, 4, 4, 5]\n",
      "list with duplicates removed :  [2, 3, 4, 5]\n",
      "[0, 2, 4, 6, 8]\n"
     ]
    }
   ],
   "source": [
    "lis1 = []\n",
    "for i in range(5):\n",
    "    temp = int(input(\"enter the elements of list\"))\n",
    "    lis1.append(temp)\n",
    "\n",
    "set1 = set(lis1)\n",
    "lis2 = list(set1)\n",
    "print(\"original list : \",lis1)\n",
    "lis1.reverse()\n",
    "print(\"reversed list : \",lis1)\n",
    "print(\"list with duplicates removed : \",lis2)\n",
    "\n",
    "even_list = [x for x in range(10) if x%2 == 0]\n",
    "print(even_list)\n"
   ]
  },
  {
   "cell_type": "code",
   "execution_count": 18,
   "metadata": {},
   "outputs": [
    {
     "data": {
      "text/plain": [
       "9"
      ]
     },
     "execution_count": 18,
     "metadata": {},
     "output_type": "execute_result"
    }
   ],
   "source": [
    "L = [3,4,7,8,9]\n",
    "def maximum(L):\n",
    "    if len(L) == 1:\n",
    "        return L[0]\n",
    "    else:\n",
    "        return max(L[0],maximum(L[1:]))\n",
    "    \n",
    "maximum(L)"
   ]
  },
  {
   "cell_type": "code",
   "execution_count": null,
   "metadata": {},
   "outputs": [],
   "source": []
  }
 ],
 "metadata": {
  "kernelspec": {
   "display_name": "Python 3",
   "language": "python",
   "name": "python3"
  },
  "language_info": {
   "codemirror_mode": {
    "name": "ipython",
    "version": 3
   },
   "file_extension": ".py",
   "mimetype": "text/x-python",
   "name": "python",
   "nbconvert_exporter": "python",
   "pygments_lexer": "ipython3",
   "version": "3.7.4"
  }
 },
 "nbformat": 4,
 "nbformat_minor": 2
}
